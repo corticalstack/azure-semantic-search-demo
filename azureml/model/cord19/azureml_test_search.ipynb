{
  "cells": [
    {
      "cell_type": "code",
      "source": [
        "!pip install azureml\n",
        "!pip install azureml.core\n",
        "!pip install sentence_transformers\n",
        "!pip install elasticsearch"
      ],
      "outputs": [
        {
          "output_type": "stream",
          "name": "stdout",
          "text": "huggingface/tokenizers: The current process just got forked, after parallelism has already been used. Disabling parallelism to avoid deadlocks...\nTo disable this warning, you can either:\n\t- Avoid using `tokenizers` before the fork if possible\n\t- Explicitly set the environment variable TOKENIZERS_PARALLELISM=(true | false)\nRequirement already satisfied: azureml in /anaconda/envs/azureml_py38/lib/python3.8/site-packages (0.2.7)\nRequirement already satisfied: python-dateutil in /anaconda/envs/azureml_py38/lib/python3.8/site-packages (from azureml) (2.8.2)\nRequirement already satisfied: requests in /anaconda/envs/azureml_py38/lib/python3.8/site-packages (from azureml) (2.27.1)\nRequirement already satisfied: pandas in /anaconda/envs/azureml_py38/lib/python3.8/site-packages (from azureml) (1.1.5)\nRequirement already satisfied: six>=1.5 in /anaconda/envs/azureml_py38/lib/python3.8/site-packages (from python-dateutil->azureml) (1.16.0)\nRequirement already satisfied: certifi>=2017.4.17 in /anaconda/envs/azureml_py38/lib/python3.8/site-packages (from requests->azureml) (2022.5.18.1)\nRequirement already satisfied: urllib3<1.27,>=1.21.1 in /anaconda/envs/azureml_py38/lib/python3.8/site-packages (from requests->azureml) (1.26.9)\nRequirement already satisfied: idna<4,>=2.5; python_version >= \"3\" in /anaconda/envs/azureml_py38/lib/python3.8/site-packages (from requests->azureml) (3.3)\nRequirement already satisfied: charset-normalizer~=2.0.0; python_version >= \"3\" in /anaconda/envs/azureml_py38/lib/python3.8/site-packages (from requests->azureml) (2.0.12)\nRequirement already satisfied: pytz>=2017.2 in /anaconda/envs/azureml_py38/lib/python3.8/site-packages (from pandas->azureml) (2019.3)\nRequirement already satisfied: numpy>=1.15.4 in /anaconda/envs/azureml_py38/lib/python3.8/site-packages (from pandas->azureml) (1.19.0)\nhuggingface/tokenizers: The current process just got forked, after parallelism has already been used. Disabling parallelism to avoid deadlocks...\nTo disable this warning, you can either:\n\t- Avoid using `tokenizers` before the fork if possible\n\t- Explicitly set the environment variable TOKENIZERS_PARALLELISM=(true | false)\nCollecting azureml.core\n  Using cached azureml_core-1.43.0-py3-none-any.whl (2.7 MB)\nRequirement already satisfied: adal<=1.2.7,>=1.2.0 in /anaconda/envs/azureml_py38/lib/python3.8/site-packages (from azureml.core) (1.2.7)\nRequirement already satisfied: urllib3<=1.26.9,>=1.23 in /anaconda/envs/azureml_py38/lib/python3.8/site-packages (from azureml.core) (1.26.9)\nRequirement already satisfied: backports.tempfile in /anaconda/envs/azureml_py38/lib/python3.8/site-packages (from azureml.core) (1.0)\nRequirement already satisfied: python-dateutil<3.0.0,>=2.7.3 in /anaconda/envs/azureml_py38/lib/python3.8/site-packages (from azureml.core) (2.8.2)\nRequirement already satisfied: azure-mgmt-resource<22.0.0,>=15.0.0 in /anaconda/envs/azureml_py38/lib/python3.8/site-packages (from azureml.core) (21.0.0)\nRequirement already satisfied: pyopenssl<23.0.0 in /anaconda/envs/azureml_py38/lib/python3.8/site-packages (from azureml.core) (22.0.0)\nRequirement already satisfied: packaging<22.0,>=20.0 in /anaconda/envs/azureml_py38/lib/python3.8/site-packages (from azureml.core) (21.3)\nRequirement already satisfied: msal<2.0.0,>=1.15.0 in /anaconda/envs/azureml_py38/lib/python3.8/site-packages (from azureml.core) (1.17.0)\nRequirement already satisfied: pathspec<1.0.0 in /anaconda/envs/azureml_py38/lib/python3.8/site-packages (from azureml.core) (0.9.0)\nRequirement already satisfied: argcomplete<3 in /anaconda/envs/azureml_py38/lib/python3.8/site-packages (from azureml.core) (2.0.0)\nRequirement already satisfied: cryptography!=1.9,!=2.0.*,!=2.1.*,!=2.2.*,<38.0.0 in /anaconda/envs/azureml_py38/lib/python3.8/site-packages (from azureml.core) (36.0.2)\nRequirement already satisfied: PyJWT<3.0.0 in /anaconda/envs/azureml_py38/lib/python3.8/site-packages (from azureml.core) (2.4.0)\nRequirement already satisfied: msal-extensions<=1.0.0,>=0.3.0 in /anaconda/envs/azureml_py38/lib/python3.8/site-packages (from azureml.core) (0.3.1)\nRequirement already satisfied: msrest<0.7.0,>=0.5.1 in /anaconda/envs/azureml_py38/lib/python3.8/site-packages (from azureml.core) (0.6.21)\nRequirement already satisfied: jsonpickle<3.0.0 in /anaconda/envs/azureml_py38/lib/python3.8/site-packages (from azureml.core) (2.2.0)\nRequirement already satisfied: ndg-httpsclient<=0.5.1 in /anaconda/envs/azureml_py38/lib/python3.8/site-packages (from azureml.core) (0.5.1)\nRequirement already satisfied: paramiko<3.0.0,>=2.0.8 in /anaconda/envs/azureml_py38/lib/python3.8/site-packages (from azureml.core) (2.11.0)\nRequirement already satisfied: azure-mgmt-containerregistry<11,>=8.2.0 in /anaconda/envs/azureml_py38/lib/python3.8/site-packages (from azureml.core) (9.1.0)\nRequirement already satisfied: knack~=0.9.0 in /anaconda/envs/azureml_py38/lib/python3.8/site-packages (from azureml.core) (0.9.0)\nRequirement already satisfied: contextlib2<22.0.0 in /anaconda/envs/azureml_py38/lib/python3.8/site-packages (from azureml.core) (21.6.0)\nRequirement already satisfied: azure-mgmt-storage<=20.0.0,>=16.0.0 in /anaconda/envs/azureml_py38/lib/python3.8/site-packages (from azureml.core) (20.0.0)\nRequirement already satisfied: azure-common<2.0.0,>=1.1.12 in /anaconda/envs/azureml_py38/lib/python3.8/site-packages (from azureml.core) (1.1.28)\nRequirement already satisfied: jmespath<=1.0.0 in /anaconda/envs/azureml_py38/lib/python3.8/site-packages (from azureml.core) (0.10.0)\nRequirement already satisfied: azure-core<2.0.0 in /anaconda/envs/azureml_py38/lib/python3.8/site-packages (from azureml.core) (1.24.1)\nRequirement already satisfied: requests[socks]<3.0.0,>=2.19.1 in /anaconda/envs/azureml_py38/lib/python3.8/site-packages (from azureml.core) (2.27.1)\nRequirement already satisfied: humanfriendly<11.0,>=4.7 in /anaconda/envs/azureml_py38/lib/python3.8/site-packages (from azureml.core) (10.0)\nRequirement already satisfied: pkginfo in /anaconda/envs/azureml_py38/lib/python3.8/site-packages (from azureml.core) (1.8.2)\nRequirement already satisfied: azure-mgmt-authorization<3,>=0.40.0 in /anaconda/envs/azureml_py38/lib/python3.8/site-packages (from azureml.core) (2.0.0)\nRequirement already satisfied: pytz in /anaconda/envs/azureml_py38/lib/python3.8/site-packages (from azureml.core) (2019.3)\nRequirement already satisfied: azure-mgmt-core<=1.3.0 in /anaconda/envs/azureml_py38/lib/python3.8/site-packages (from azureml.core) (1.3.0)\nRequirement already satisfied: msrestazure<=0.6.4,>=0.4.33 in /anaconda/envs/azureml_py38/lib/python3.8/site-packages (from azureml.core) (0.6.4)\nRequirement already satisfied: azure-graphrbac<1.0.0,>=0.40.0 in /anaconda/envs/azureml_py38/lib/python3.8/site-packages (from azureml.core) (0.61.1)\nRequirement already satisfied: SecretStorage<4.0.0 in /anaconda/envs/azureml_py38/lib/python3.8/site-packages (from azureml.core) (3.3.2)\nRequirement already satisfied: azure-mgmt-keyvault<11.0.0,>=0.40.0 in /anaconda/envs/azureml_py38/lib/python3.8/site-packages (from azureml.core) (9.3.0)\nRequirement already satisfied: docker<6.0.0 in /anaconda/envs/azureml_py38/lib/python3.8/site-packages (from azureml.core) (5.0.3)\nRequirement already satisfied: backports.weakref in /anaconda/envs/azureml_py38/lib/python3.8/site-packages (from backports.tempfile->azureml.core) (1.0.post1)\nRequirement already satisfied: six>=1.5 in /anaconda/envs/azureml_py38/lib/python3.8/site-packages (from python-dateutil<3.0.0,>=2.7.3->azureml.core) (1.16.0)\nRequirement already satisfied: pyparsing!=3.0.5,>=2.0.2 in /anaconda/envs/azureml_py38/lib/python3.8/site-packages (from packaging<22.0,>=20.0->azureml.core) (3.0.9)\nRequirement already satisfied: cffi>=1.12 in /anaconda/envs/azureml_py38/lib/python3.8/site-packages (from cryptography!=1.9,!=2.0.*,!=2.1.*,!=2.2.*,<38.0.0->azureml.core) (1.15.0)\nRequirement already satisfied: portalocker<3,>=1.0; python_version >= \"3.5\" and platform_system != \"Windows\" in /anaconda/envs/azureml_py38/lib/python3.8/site-packages (from msal-extensions<=1.0.0,>=0.3.0->azureml.core) (2.4.0)\nRequirement already satisfied: isodate>=0.6.0 in /anaconda/envs/azureml_py38/lib/python3.8/site-packages (from msrest<0.7.0,>=0.5.1->azureml.core) (0.6.1)\nRequirement already satisfied: certifi>=2017.4.17 in /anaconda/envs/azureml_py38/lib/python3.8/site-packages (from msrest<0.7.0,>=0.5.1->azureml.core) (2022.5.18.1)\nRequirement already satisfied: requests-oauthlib>=0.5.0 in /anaconda/envs/azureml_py38/lib/python3.8/site-packages (from msrest<0.7.0,>=0.5.1->azureml.core) (1.3.1)\nRequirement already satisfied: pyasn1>=0.1.1 in /anaconda/envs/azureml_py38/lib/python3.8/site-packages (from ndg-httpsclient<=0.5.1->azureml.core) (0.4.8)\nRequirement already satisfied: bcrypt>=3.1.3 in /anaconda/envs/azureml_py38/lib/python3.8/site-packages (from paramiko<3.0.0,>=2.0.8->azureml.core) (3.2.2)\nRequirement already satisfied: pynacl>=1.0.1 in /anaconda/envs/azureml_py38/lib/python3.8/site-packages (from paramiko<3.0.0,>=2.0.8->azureml.core) (1.5.0)\nRequirement already satisfied: pygments in /anaconda/envs/azureml_py38/lib/python3.8/site-packages (from knack~=0.9.0->azureml.core) (2.12.0)\nRequirement already satisfied: tabulate in /anaconda/envs/azureml_py38/lib/python3.8/site-packages (from knack~=0.9.0->azureml.core) (0.8.9)\nRequirement already satisfied: pyyaml in /anaconda/envs/azureml_py38/lib/python3.8/site-packages (from knack~=0.9.0->azureml.core) (6.0)\nRequirement already satisfied: typing-extensions>=4.0.1 in /anaconda/envs/azureml_py38/lib/python3.8/site-packages (from azure-core<2.0.0->azureml.core) (4.2.0)\nRequirement already satisfied: charset-normalizer~=2.0.0; python_version >= \"3\" in /anaconda/envs/azureml_py38/lib/python3.8/site-packages (from requests[socks]<3.0.0,>=2.19.1->azureml.core) (2.0.12)\nRequirement already satisfied: idna<4,>=2.5; python_version >= \"3\" in /anaconda/envs/azureml_py38/lib/python3.8/site-packages (from requests[socks]<3.0.0,>=2.19.1->azureml.core) (3.3)\nRequirement already satisfied: PySocks!=1.5.7,>=1.5.6; extra == \"socks\" in /anaconda/envs/azureml_py38/lib/python3.8/site-packages (from requests[socks]<3.0.0,>=2.19.1->azureml.core) (1.7.1)\nRequirement already satisfied: jeepney>=0.6 in /anaconda/envs/azureml_py38/lib/python3.8/site-packages (from SecretStorage<4.0.0->azureml.core) (0.8.0)\nRequirement already satisfied: websocket-client>=0.32.0 in /anaconda/envs/azureml_py38/lib/python3.8/site-packages (from docker<6.0.0->azureml.core) (1.3.2)\nRequirement already satisfied: pycparser in /anaconda/envs/azureml_py38/lib/python3.8/site-packages (from cffi>=1.12->cryptography!=1.9,!=2.0.*,!=2.1.*,!=2.2.*,<38.0.0->azureml.core) (2.21)\nRequirement already satisfied: oauthlib>=3.0.0 in /anaconda/envs/azureml_py38/lib/python3.8/site-packages (from requests-oauthlib>=0.5.0->msrest<0.7.0,>=0.5.1->azureml.core) (3.2.0)\n\u001b[31mERROR: azureml-train-automl-runtime 1.42.0 has requirement azureml-automl-core~=1.42.0, but you'll have azureml-automl-core 1.43.0 which is incompatible.\u001b[0m\n\u001b[31mERROR: azureml-train-automl-runtime 1.42.0 has requirement azureml-core~=1.42.0, but you'll have azureml-core 1.43.0 which is incompatible.\u001b[0m\n\u001b[31mERROR: azureml-train-automl-runtime 1.42.0 has requirement azureml-dataset-runtime[fuse,pandas]~=1.42.0, but you'll have azureml-dataset-runtime 1.43.0 which is incompatible.\u001b[0m\n\u001b[31mERROR: azureml-train-automl-runtime 1.42.0 has requirement azureml-telemetry~=1.42.0, but you'll have azureml-telemetry 1.43.0 which is incompatible.\u001b[0m\n\u001b[31mERROR: azureml-train-automl-runtime 1.42.0 has requirement azureml-train-automl-client~=1.42.0, but you'll have azureml-train-automl-client 1.43.0 which is incompatible.\u001b[0m\n\u001b[31mERROR: azureml-tensorboard 1.42.0 has requirement azureml-core~=1.42.0, but you'll have azureml-core 1.43.0 which is incompatible.\u001b[0m\n\u001b[31mERROR: azureml-sdk 1.42.0 has requirement azureml-core~=1.42.0, but you'll have azureml-core 1.43.0 which is incompatible.\u001b[0m\n\u001b[31mERROR: azureml-sdk 1.42.0 has requirement azureml-dataset-runtime[fuse]~=1.42.0, but you'll have azureml-dataset-runtime 1.43.0 which is incompatible.\u001b[0m\n\u001b[31mERROR: azureml-sdk 1.42.0 has requirement azureml-pipeline~=1.42.0, but you'll have azureml-pipeline 1.43.0 which is incompatible.\u001b[0m\n\u001b[31mERROR: azureml-sdk 1.42.0 has requirement azureml-train-automl-client~=1.42.0, but you'll have azureml-train-automl-client 1.43.0 which is incompatible.\u001b[0m\n\u001b[31mERROR: azureml-sdk 1.42.0 has requirement azureml-train-core~=1.42.0, but you'll have azureml-train-core 1.43.0 which is incompatible.\u001b[0m\n\u001b[31mERROR: azureml-responsibleai 1.42.0 has requirement azureml-core~=1.42.0, but you'll have azureml-core 1.43.0 which is incompatible.\u001b[0m\n\u001b[31mERROR: azureml-responsibleai 1.42.0 has requirement azureml-dataset-runtime~=1.42.0, but you'll have azureml-dataset-runtime 1.43.0 which is incompatible.\u001b[0m\n\u001b[31mERROR: azureml-responsibleai 1.42.0 has requirement azureml-telemetry~=1.42.0, but you'll have azureml-telemetry 1.43.0 which is incompatible.\u001b[0m\n\u001b[31mERROR: azureml-opendatasets 1.42.0 has requirement azureml-core~=1.42.0, but you'll have azureml-core 1.43.0 which is incompatible.\u001b[0m\n\u001b[31mERROR: azureml-opendatasets 1.42.0 has requirement azureml-dataset-runtime[fuse,pandas]~=1.42.0, but you'll have azureml-dataset-runtime 1.43.0 which is incompatible.\u001b[0m\n\u001b[31mERROR: azureml-opendatasets 1.42.0 has requirement azureml-telemetry~=1.42.0, but you'll have azureml-telemetry 1.43.0 which is incompatible.\u001b[0m\n\u001b[31mERROR: azureml-mlflow 1.42.0 has requirement azureml-core~=1.42.0, but you'll have azureml-core 1.43.0 which is incompatible.\u001b[0m\n\u001b[31mERROR: azureml-interpret 1.42.0 has requirement azureml-core~=1.42.0, but you'll have azureml-core 1.43.0 which is incompatible.\u001b[0m\n\u001b[31mERROR: azureml-defaults 1.42.0 has requirement azureml-core~=1.42.0, but you'll have azureml-core 1.43.0 which is incompatible.\u001b[0m\n\u001b[31mERROR: azureml-defaults 1.42.0 has requirement azureml-dataset-runtime[fuse]~=1.42.0, but you'll have azureml-dataset-runtime 1.43.0 which is incompatible.\u001b[0m\n\u001b[31mERROR: azureml-datadrift 1.42.0 has requirement azureml-core~=1.42.0, but you'll have azureml-core 1.43.0 which is incompatible.\u001b[0m\n\u001b[31mERROR: azureml-datadrift 1.42.0 has requirement azureml-dataset-runtime[fuse,pandas]~=1.42.0, but you'll have azureml-dataset-runtime 1.43.0 which is incompatible.\u001b[0m\n\u001b[31mERROR: azureml-datadrift 1.42.0 has requirement azureml-pipeline-core~=1.42.0, but you'll have azureml-pipeline-core 1.43.0 which is incompatible.\u001b[0m\n\u001b[31mERROR: azureml-datadrift 1.42.0 has requirement azureml-telemetry~=1.42.0, but you'll have azureml-telemetry 1.43.0 which is incompatible.\u001b[0m\n\u001b[31mERROR: azureml-contrib-services 1.42.0 has requirement azureml-core~=1.42.0, but you'll have azureml-core 1.43.0 which is incompatible.\u001b[0m\n\u001b[31mERROR: azureml-contrib-server 1.42.0 has requirement azureml-core~=1.42.0, but you'll have azureml-core 1.43.0 which is incompatible.\u001b[0m\n\u001b[31mERROR: azureml-contrib-reinforcementlearning 1.42.0 has requirement azureml-core~=1.42.0, but you'll have azureml-core 1.43.0 which is incompatible.\u001b[0m\n\u001b[31mERROR: azureml-contrib-reinforcementlearning 1.42.0 has requirement azureml-train-core~=1.42.0, but you'll have azureml-train-core 1.43.0 which is incompatible.\u001b[0m\n\u001b[31mERROR: azureml-contrib-pipeline-steps 1.42.0 has requirement azureml-core~=1.42.0, but you'll have azureml-core 1.43.0 which is incompatible.\u001b[0m\n\u001b[31mERROR: azureml-contrib-pipeline-steps 1.42.0 has requirement azureml-dataset-runtime~=1.42.0, but you'll have azureml-dataset-runtime 1.43.0 which is incompatible.\u001b[0m\n\u001b[31mERROR: azureml-contrib-pipeline-steps 1.42.0 has requirement azureml-pipeline-core~=1.42.0, but you'll have azureml-pipeline-core 1.43.0 which is incompatible.\u001b[0m\n\u001b[31mERROR: azureml-contrib-notebook 1.42.0 has requirement azureml-core~=1.42.0, but you'll have azureml-core 1.43.0 which is incompatible.\u001b[0m\n\u001b[31mERROR: azureml-contrib-notebook 1.42.0 has requirement azureml-pipeline-core~=1.42.0, but you'll have azureml-pipeline-core 1.43.0 which is incompatible.\u001b[0m\n\u001b[31mERROR: azureml-contrib-notebook 1.42.0 has requirement nbconvert<6, but you'll have nbconvert 6.5.0 which is incompatible.\u001b[0m\n\u001b[31mERROR: azureml-contrib-fairness 1.42.0 has requirement azureml-core~=1.42.0, but you'll have azureml-core 1.43.0 which is incompatible.\u001b[0m\n\u001b[31mERROR: azureml-contrib-dataset 1.42.0 has requirement azureml-core~=1.42.0, but you'll have azureml-core 1.43.0 which is incompatible.\u001b[0m\n\u001b[31mERROR: azureml-contrib-dataset 1.42.0 has requirement azureml-dataset-runtime[fuse,pandas]~=1.42.0, but you'll have azureml-dataset-runtime 1.43.0 which is incompatible.\u001b[0m\n\u001b[31mERROR: azureml-contrib-automl-pipeline-steps 1.42.0 has requirement azureml-pipeline-steps~=1.42.0, but you'll have azureml-pipeline-steps 1.43.0 which is incompatible.\u001b[0m\n\u001b[31mERROR: azureml-cli-common 1.42.0 has requirement azureml-core~=1.42.0, but you'll have azureml-core 1.43.0 which is incompatible.\u001b[0m\n\u001b[31mERROR: azureml-cli-common 1.42.0 has requirement azureml-pipeline-core~=1.42.0, but you'll have azureml-pipeline-core 1.43.0 which is incompatible.\u001b[0m\n\u001b[31mERROR: azureml-cli-common 1.42.0 has requirement azureml-train-core~=1.42.0; python_version >= \"3.5\", but you'll have azureml-train-core 1.43.0 which is incompatible.\u001b[0m\n\u001b[31mERROR: azureml-automl-dnn-nlp 1.42.0 has requirement azureml-automl-core~=1.42.0, but you'll have azureml-automl-core 1.43.0 which is incompatible.\u001b[0m\n\u001b[31mERROR: azureml-automl-dnn-nlp 1.42.0 has requirement azureml-core~=1.42.0, but you'll have azureml-core 1.43.0 which is incompatible.\u001b[0m\n\u001b[31mERROR: azureml-automl-dnn-nlp 1.42.0 has requirement azureml-telemetry~=1.42.0, but you'll have azureml-telemetry 1.43.0 which is incompatible.\u001b[0m\n\u001b[31mERROR: azureml-automl-dnn-nlp 1.42.0 has requirement transformers<=4.5.1,>=4.1.0, but you'll have transformers 4.20.1 which is incompatible.\u001b[0m\n\u001b[31mERROR: azureml-accel-models 1.42.0 has requirement azureml-core~=1.42.0, but you'll have azureml-core 1.43.0 which is incompatible.\u001b[0m\nInstalling collected packages: azureml.core\nSuccessfully installed azureml.core\nhuggingface/tokenizers: The current process just got forked, after parallelism has already been used. Disabling parallelism to avoid deadlocks...\nTo disable this warning, you can either:\n\t- Avoid using `tokenizers` before the fork if possible\n\t- Explicitly set the environment variable TOKENIZERS_PARALLELISM=(true | false)\nRequirement already satisfied: sentence_transformers in /anaconda/envs/azureml_py38/lib/python3.8/site-packages (2.2.2)\nRequirement already satisfied: tqdm in /anaconda/envs/azureml_py38/lib/python3.8/site-packages (from sentence_transformers) (4.64.0)\nRequirement already satisfied: scikit-learn in /anaconda/envs/azureml_py38/lib/python3.8/site-packages (from sentence_transformers) (0.22.1)\nRequirement already satisfied: scipy in /anaconda/envs/azureml_py38/lib/python3.8/site-packages (from sentence_transformers) (1.5.2)\nRequirement already satisfied: numpy in /anaconda/envs/azureml_py38/lib/python3.8/site-packages (from sentence_transformers) (1.19.0)\nRequirement already satisfied: nltk in /anaconda/envs/azureml_py38/lib/python3.8/site-packages (from sentence_transformers) (3.7)\nRequirement already satisfied: sentencepiece in /anaconda/envs/azureml_py38/lib/python3.8/site-packages (from sentence_transformers) (0.1.96)\nRequirement already satisfied: torch>=1.6.0 in /anaconda/envs/azureml_py38/lib/python3.8/site-packages (from sentence_transformers) (1.10.2)\nRequirement already satisfied: transformers<5.0.0,>=4.6.0 in /anaconda/envs/azureml_py38/lib/python3.8/site-packages (from sentence_transformers) (4.20.1)\nRequirement already satisfied: huggingface-hub>=0.4.0 in /anaconda/envs/azureml_py38/lib/python3.8/site-packages (from sentence_transformers) (0.8.1)\nRequirement already satisfied: torchvision in /anaconda/envs/azureml_py38/lib/python3.8/site-packages (from sentence_transformers) (0.9.1)\nRequirement already satisfied: joblib>=0.11 in /anaconda/envs/azureml_py38/lib/python3.8/site-packages (from scikit-learn->sentence_transformers) (0.14.1)\nRequirement already satisfied: regex>=2021.8.3 in /anaconda/envs/azureml_py38/lib/python3.8/site-packages (from nltk->sentence_transformers) (2022.4.24)\nRequirement already satisfied: click in /anaconda/envs/azureml_py38/lib/python3.8/site-packages (from nltk->sentence_transformers) (7.1.2)\nRequirement already satisfied: typing-extensions in /anaconda/envs/azureml_py38/lib/python3.8/site-packages (from torch>=1.6.0->sentence_transformers) (4.2.0)\nRequirement already satisfied: tokenizers!=0.11.3,<0.13,>=0.11.1 in /anaconda/envs/azureml_py38/lib/python3.8/site-packages (from transformers<5.0.0,>=4.6.0->sentence_transformers) (0.12.1)\nRequirement already satisfied: requests in /anaconda/envs/azureml_py38/lib/python3.8/site-packages (from transformers<5.0.0,>=4.6.0->sentence_transformers) (2.27.1)\nRequirement already satisfied: pyyaml>=5.1 in /anaconda/envs/azureml_py38/lib/python3.8/site-packages (from transformers<5.0.0,>=4.6.0->sentence_transformers) (6.0)\nRequirement already satisfied: filelock in /anaconda/envs/azureml_py38/lib/python3.8/site-packages (from transformers<5.0.0,>=4.6.0->sentence_transformers) (3.7.0)\nRequirement already satisfied: packaging>=20.0 in /anaconda/envs/azureml_py38/lib/python3.8/site-packages (from transformers<5.0.0,>=4.6.0->sentence_transformers) (21.3)\nRequirement already satisfied: pillow>=4.1.1 in /anaconda/envs/azureml_py38/lib/python3.8/site-packages (from torchvision->sentence_transformers) (6.2.1)\nRequirement already satisfied: charset-normalizer~=2.0.0; python_version >= \"3\" in /anaconda/envs/azureml_py38/lib/python3.8/site-packages (from requests->transformers<5.0.0,>=4.6.0->sentence_transformers) (2.0.12)\nRequirement already satisfied: certifi>=2017.4.17 in /anaconda/envs/azureml_py38/lib/python3.8/site-packages (from requests->transformers<5.0.0,>=4.6.0->sentence_transformers) (2022.5.18.1)\nRequirement already satisfied: urllib3<1.27,>=1.21.1 in /anaconda/envs/azureml_py38/lib/python3.8/site-packages (from requests->transformers<5.0.0,>=4.6.0->sentence_transformers) (1.26.9)\nRequirement already satisfied: idna<4,>=2.5; python_version >= \"3\" in /anaconda/envs/azureml_py38/lib/python3.8/site-packages (from requests->transformers<5.0.0,>=4.6.0->sentence_transformers) (3.3)\nRequirement already satisfied: pyparsing!=3.0.5,>=2.0.2 in /anaconda/envs/azureml_py38/lib/python3.8/site-packages (from packaging>=20.0->transformers<5.0.0,>=4.6.0->sentence_transformers) (3.0.9)\nhuggingface/tokenizers: The current process just got forked, after parallelism has already been used. Disabling parallelism to avoid deadlocks...\nTo disable this warning, you can either:\n\t- Avoid using `tokenizers` before the fork if possible\n\t- Explicitly set the environment variable TOKENIZERS_PARALLELISM=(true | false)\nRequirement already satisfied: elasticsearch in /anaconda/envs/azureml_py38/lib/python3.8/site-packages (8.3.1)\nRequirement already satisfied: elastic-transport<9,>=8 in /anaconda/envs/azureml_py38/lib/python3.8/site-packages (from elasticsearch) (8.1.2)\nRequirement already satisfied: urllib3<2,>=1.26.2 in /anaconda/envs/azureml_py38/lib/python3.8/site-packages (from elastic-transport<9,>=8->elasticsearch) (1.26.9)\nRequirement already satisfied: certifi in /anaconda/envs/azureml_py38/lib/python3.8/site-packages (from elastic-transport<9,>=8->elasticsearch) (2022.5.18.1)\n"
        }
      ],
      "execution_count": 231,
      "metadata": {}
    },
    {
      "cell_type": "code",
      "source": [
        "import os\n",
        "from sentence_transformers import SentenceTransformer, models, CrossEncoder\n",
        "from azureml.core import Workspace\n",
        "from azureml.core.model import Model\n",
        "from elasticsearch import Elasticsearch, helpers"
      ],
      "outputs": [],
      "execution_count": 232,
      "metadata": {
        "gather": {
          "logged": 1656659441978
        }
      }
    },
    {
      "cell_type": "code",
      "source": [
        "ws = Workspace.from_config()\r\n",
        "keyvault = ws.get_default_keyvault()\r\n",
        "es_host = keyvault.get_secret(name='AZ-SD-ES-HOST')\r\n",
        "es_user = keyvault.get_secret(name='AZ-SD-ES-USER')\r\n",
        "es_pwd = keyvault.get_secret(name='AZ-SD-ES-PWD')\r\n",
        "es_conn = Elasticsearch([es_host], basic_auth=(es_user, es_pwd), request_timeout=60)"
      ],
      "outputs": [],
      "execution_count": 234,
      "metadata": {
        "gather": {
          "logged": 1656659448794
        }
      }
    },
    {
      "cell_type": "code",
      "source": [
        "neural_model_path = Model.get_model_path(\"c19_ance_msmarco_passage\", 1, ws)\r\n",
        "neural_model_embedding = SentenceTransformer(neural_model_path)\r\n",
        "cross_encoder = CrossEncoder('cross-encoder/ms-marco-MiniLM-L-12-v2')"
      ],
      "outputs": [],
      "execution_count": 235,
      "metadata": {
        "jupyter": {
          "source_hidden": false,
          "outputs_hidden": false
        },
        "nteract": {
          "transient": {
            "deleting": false
          }
        },
        "gather": {
          "logged": 1656659470821
        }
      }
    },
    {
      "cell_type": "code",
      "source": [
        "query_search_size = 10\r\n",
        "fields = ['hash_id',\r\n",
        "           'title',\r\n",
        "           'publish_year',\r\n",
        "           'journal',\r\n",
        "           'topic_id',\r\n",
        "           'doi',\r\n",
        "           'pubmed_id',\r\n",
        "           'text',\r\n",
        "           'is_coronavirus',\r\n",
        "           'is_coronavirus_title',\r\n",
        "           'is_sars_cov2',\r\n",
        "           'is_sars_cov2_title',\r\n",
        "           'is_sars_cov',\r\n",
        "           'is_sars_cov_title',\r\n",
        "           'is_mers',\r\n",
        "           'is_mers_title',\r\n",
        "           'author_count',\r\n",
        "           'paper_citation_count',\r\n",
        "           'paper_pagerank',\r\n",
        "           'score_mf1',\r\n",
        "           'score_mf2',\r\n",
        "           'score_mf3',\r\n",
        "           'score_mf4',\r\n",
        "           'text_processed_vector']"
      ],
      "outputs": [],
      "execution_count": 236,
      "metadata": {
        "jupyter": {
          "source_hidden": false,
          "outputs_hidden": false
        },
        "nteract": {
          "transient": {
            "deleting": false
          }
        },
        "gather": {
          "logged": 1656659470898
        }
      }
    },
    {
      "cell_type": "code",
      "source": [
        "query_search_phrase = [\"What T-cell epitopes have been identified in the Receptor Binding Motif (RBM) region of the S-glycoprotein Receptor Binding Domain (RBD) of the SARS-CoV-2 virus?\"]\r\n",
        "#query_search_phrase = [\"Which of the current vaccines in the clinic have reported the highest levels of neutralizing Abs after a single vaccination?\"]\r\n",
        "search_type = 'qv'\r\n",
        "q_year_from = 2020\r\n",
        "q_year_to = 2021\r\n",
        "terms = {}\r\n",
        "\r\n",
        "query_embedding = neural_model_embedding.encode(query_search_phrase)\r\n",
        "query_embedding = query_embedding.tolist()\r\n",
        "\r\n",
        "if search_type == 'q':\r\n",
        "    match = {\r\n",
        "                'multi_match': {\r\n",
        "                    'query': query_search_phrase[0],\r\n",
        "                    'fields': ['title',\r\n",
        "                                'text']\r\n",
        "                }\r\n",
        "            }\r\n",
        "else:\r\n",
        "    match = {\r\n",
        "                'script_score': {\r\n",
        "                    'query': {\r\n",
        "                        'match_all': {}\r\n",
        "                    },\r\n",
        "                    'script': {\r\n",
        "                        'source': 'cosineSimilarity(params.queryVector, \"text_processed_vector\") + 1.0',\r\n",
        "                        'params': {\r\n",
        "                            'queryVector': query_embedding[0]\r\n",
        "                        }\r\n",
        "                    }\r\n",
        "                }\r\n",
        "            }\r\n",
        "\r\n",
        "body = {\r\n",
        "        'query': {\r\n",
        "            'bool': {\r\n",
        "                'must': [\r\n",
        "                    match,\r\n",
        "                    {\r\n",
        "                        'terms': terms\r\n",
        "                    },\r\n",
        "                    {\r\n",
        "                        'range': {\r\n",
        "                            'publish_year': {\r\n",
        "                                'gte': q_year_from,\r\n",
        "                                'lte':q_year_to\r\n",
        "                            }\r\n",
        "                        }\r\n",
        "                    }\r\n",
        "                ]\r\n",
        "            }\r\n",
        "        },\r\n",
        "        'fields': fields,\r\n",
        "        '_source': False\r\n",
        "    }\r\n",
        "\r\n",
        "if not terms:\r\n",
        "        del body['query']['bool']['must'][1]"
      ],
      "outputs": [],
      "execution_count": 252,
      "metadata": {
        "jupyter": {
          "source_hidden": false,
          "outputs_hidden": false
        },
        "nteract": {
          "transient": {
            "deleting": false
          }
        },
        "gather": {
          "logged": 1656679189782
        }
      }
    },
    {
      "cell_type": "code",
      "source": [
        "results = es_conn.search(index='pub_text', size=query_search_size, body=body)\r\n",
        "\r\n",
        "for hit in results['hits']['hits'][0:query_search_size]:\r\n",
        "    print(\"\\t{}\\t{}\\t{}\".format(hit['_score'], hit['fields']['title'][0][:80], hit['fields']['text'][0][:160]))\r\n"
      ],
      "outputs": [
        {
          "output_type": "stream",
          "name": "stdout",
          "text": "\t60.784584\tDevelopment of a serological assay to identify SARSCoV2 antibodies in COVID19 pa\tThe presence of antibodies to SARS-CoV-2 indicates the potential of protective immunity [19] . The target antigen of the antibody response to SARS-CoV-2 is a la\n\t29.162775\tDevelopment of a serological assay to identify SARSCoV2 antibodies in COVID19 pa\tThe copyright holder for this this version posted September 13, 2020. . https://doi.org/10.1101/2020.09.11.20192690 doi: medRxiv preprint EUROIMMUN assays) [36,\n\t28.620134\tDevelopment of a serological assay to identify SARSCoV2 antibodies in COVID19 pa\tTo ensure the detectability of antibody binding in the sera is specific to the antigen and not non- (Table 2) for IgG antibodies to the S protein. In one COVID-\n\t25.552803\tMolecular features similarities between SARSCoV2 SARS MERS and key human genes c\tMoreover, our analyses allowed us to distinguish not only the main factors that 501 contribute to the distribution of the genes along the axes in PCA, but also \n\t23.100498\tDevelopment of a serological assay to identify SARSCoV2 antibodies in COVID19 pa\tCurrent COVID-19 antibody tests have shown significant variability [33] [34] [35] . Specificity is affected by various factors, including the type of test and t\n\t22.928057\tDevelopment of a serological assay to identify SARSCoV2 antibodies in COVID19 pa\tWe used pre-COVID-19 controls (n=332) to determine the background reactivity and establish assay specificity to the S protein and RBD using samples from individ\n\t22.27162\tPancreatogenic Diabetes Triggering Effects of Alcohol and HIV\tTo confirm HIV entry into pancreatic acinar cells, we recently exposed HIV-1 ADA at multiplicity of infections (MOIs) ranging between 0.085 and 0.34 to SW1990 c\n\t22.075836\tDevelopment of a serological assay to identify SARSCoV2 antibodies in COVID19 pa\tPlasmids encoding mammalian cell codon optimized sequences for SARS-CoV-2 full-length S protein and the RBD were generously gifted from the lab of Dr. Florian K\n\t21.71032\tDevelopment of a serological assay to identify SARSCoV2 antibodies in COVID19 pa\tDescriptive statistics were used to summarize the IgG, IgA, and IgM binding to S protein and RBD as measured by mean optical density across antigen replicates. \n\t21.09954\tMulticentric Castlemans disease in HIV patients a singlecenter cohort diagnosed \tSince tocilizumab and siltuximab inhibit human IL-6 (hIL-6) receptor binding only, symptom amelioration in a cytokine storm may be of therapeutic benefit. Viral\n"
        }
      ],
      "execution_count": 255,
      "metadata": {
        "jupyter": {
          "source_hidden": false,
          "outputs_hidden": false
        },
        "nteract": {
          "transient": {
            "deleting": false
          }
        },
        "gather": {
          "logged": 1656679290424
        }
      }
    }
  ],
  "metadata": {
    "kernelspec": {
      "name": "python38-azureml",
      "language": "python",
      "display_name": "Python 3.8 - AzureML"
    },
    "language_info": {
      "name": "python",
      "version": "3.8.5",
      "mimetype": "text/x-python",
      "codemirror_mode": {
        "name": "ipython",
        "version": 3
      },
      "pygments_lexer": "ipython3",
      "nbconvert_exporter": "python",
      "file_extension": ".py"
    },
    "kernel_info": {
      "name": "python38-azureml"
    },
    "microsoft": {
      "host": {
        "AzureML": {
          "notebookHasBeenCompleted": true
        }
      }
    },
    "nteract": {
      "version": "nteract-front-end@1.0.0"
    }
  },
  "nbformat": 4,
  "nbformat_minor": 4
}